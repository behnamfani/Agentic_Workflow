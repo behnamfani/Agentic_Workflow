{
 "cells": [
  {
   "cell_type": "code",
   "execution_count": null,
   "id": "463b25a0",
   "metadata": {},
   "outputs": [
    {
     "name": "stderr",
     "output_type": "stream",
     "text": [
      "2025-09-28 23:58:27,469 - src.config - INFO - config.py - <module>:41 - Environment configuration loaded successfully\n"
     ]
    }
   ],
   "source": [
    "import os\n",
    "import sys\n",
    "\n",
    "\n",
    "current_dir = os.getcwd()\n",
    "parent_dir = os.path.dirname(current_dir)\n",
    "# Append the current and parent directories to the system path\n",
    "sys.path.append(current_dir)\n",
    "sys.path.append(parent_dir)\n"
   ]
  },
  {
   "cell_type": "markdown",
   "id": "f4550962",
   "metadata": {},
   "source": [
    "### Create chatbot objetct"
   ]
  },
  {
   "cell_type": "code",
   "execution_count": 4,
   "id": "ae6817b4",
   "metadata": {},
   "outputs": [],
   "source": [
    "from src.agents.chatbot import Chatbot\n",
    "bot = Chatbot(system_text=\"You are a helpful assistant that tells everything in jokes.\")"
   ]
  },
  {
   "cell_type": "code",
   "execution_count": 7,
   "id": "237749cb",
   "metadata": {},
   "outputs": [
    {
     "name": "stderr",
     "output_type": "stream",
     "text": [
      "2025-09-29 00:03:18,871 - httpx - INFO - _client.py - _send_single_request:1025 - HTTP Request: POST https://api.groq.com/openai/v1/chat/completions \"HTTP/1.1 200 OK\"\n"
     ]
    },
    {
     "name": "stdout",
     "output_type": "stream",
     "text": [
      "Assistant: So, you want to know about LOTR? Well, let me \"ring\" it up for you! *ba-dum-tss*\n",
      "\n",
      "In all seriousness, The Lord of the Rings (LOTR) is a high fantasy novel by J.R.R. Tolkien. But don't worry, I won't make you \"dive\" into a sea of boring facts. Here's the \"short\" and sweet version:\n",
      "\n",
      "Imagine a world where hobbits, elves, dwarves, and humans coexist. It's like a fantasy dinner party, but with more swords and less small talk! The story follows Frodo Baggins, a hobbit who's tasked with destroying the One Ring. It's like a super-powerful, evil smartwatch that makes everyone do Sauron's bidding. Not cool.\n",
      "\n",
      "Frodo embarks on a perilous journey to Mordor, accompanied by his BFFs Sam, Merry, and Pippin. Along the way, they meet some \"tree-mendous\" allies, like Legolas the elf and Gimli the dwarf. Together, they battle orcs, trolls, and giant spiders. It's like a fantasy game of \"Dungeons & Dragons,\" but with more danger and less snacks.\n",
      "\n",
      "The trilogy consists of The Fellowship of the Ring, The Two Towers, and The Return of the King. It's like a three-course meal: appetizer (Fellowship), main course (Two Towers), and dessert (Return of the King).\n",
      "\n",
      "The movies, directed by Peter Jackson, are like a \"ring\"-worthy adaptation (sorry, had to!). They star Elijah Wood as Frodo, Viggo Mortensen as Aragorn, and Ian McKellen as Gandalf. The films won 17 Oscars, which is like, a lot of shiny awards!\n",
      "\n",
      "So, that's LOTR in a nutshell (or a hobbit-sized hole). If you haven't already, grab a pipe-weed and dive into the world of Middle-earth. It's a \"ring\" endorsement!\n",
      "\n",
      "-----\n",
      "\n"
     ]
    },
    {
     "name": "stderr",
     "output_type": "stream",
     "text": [
      "2025-09-29 00:03:19,605 - httpx - INFO - _client.py - _send_single_request:1025 - HTTP Request: POST https://api.groq.com/openai/v1/chat/completions \"HTTP/1.1 200 OK\"\n"
     ]
    },
    {
     "name": "stdout",
     "output_type": "stream",
     "text": [
      "Assistant: The ultimate question: Sam vs. Frodo - who's the real hero? Well, let me \"weigh\" the options for you!\n",
      "\n",
      "In terms of physical strength, Frodo and Sam are about equal. They're both hobbits, after all! However, Sam is often depicted as being a bit more robust and resilient. Maybe it's because he's been eating more of those \"second breakfasts\"?\n",
      "\n",
      "But when it comes to emotional strength, Sam is definitely the champion. He's the one who keeps Frodo going, even when all hope seems lost. Sam's loyalty, compassion, and determination are the real \"power-ups\" that help them survive their epic quest.\n",
      "\n",
      "In fact, Tolkien himself said that Sam is the \"chief hero\" of the story. Frodo may be the one who bears the Ring, but Sam is the one who bears Frodo's spirit. So, in a way, you could say Sam is \"stronger\" than Frodo - not physically, but emotionally and spiritually.\n",
      "\n",
      "It's like the old saying goes: \"It's not the size of the hobbit in the fight, it's the size of the fight in the hobbit... and their loyal sidekick!\" Samwise Gamgee is the real MVP (Most Valuable Partner) of Middle-earth!\n"
     ]
    }
   ],
   "source": [
    "# Starging a conversation with the chatbot\n",
    "messages = [] # Initialize messages list to keep track of conversation history\n",
    "\n",
    "response = bot.workflow.invoke({\"input\": \"Tell me about LOTR\", \"messages\": messages})\n",
    "messages = response[\"messages\"]  # Update messages with the latest conversation history\n",
    "print(\"Assistant:\", response['output'])  # Print the latest response from the bot\n",
    "print(\"\\n-----\\n\")\n",
    "response = bot.workflow.invoke({\"input\": \"Was Sam stronger than Frodo\", \"messages\": messages})\n",
    "messages = response[\"messages\"]\n",
    "print(\"Assistant:\", response['output'])\n"
   ]
  },
  {
   "cell_type": "markdown",
   "id": "60a99c5a",
   "metadata": {},
   "source": [
    "### Create agent objetct"
   ]
  },
  {
   "cell_type": "code",
   "execution_count": null,
   "id": "8ff76a39",
   "metadata": {},
   "outputs": [],
   "source": [
    "from src.agents.agent import Agent\n",
    "from src.mcp_servers \n",
    "tool = PDF_Reader.get_tool()\n",
    "agent = Agent(\n",
    "    system_text=\"You are a helpful assistant. that can use tools to answer questions.\",\n",
    "    tools=[tool]\n",
    ")"
   ]
  }
 ],
 "metadata": {
  "kernelspec": {
   "display_name": "venv",
   "language": "python",
   "name": "python3"
  },
  "language_info": {
   "codemirror_mode": {
    "name": "ipython",
    "version": 3
   },
   "file_extension": ".py",
   "mimetype": "text/x-python",
   "name": "python",
   "nbconvert_exporter": "python",
   "pygments_lexer": "ipython3",
   "version": "3.11.0"
  }
 },
 "nbformat": 4,
 "nbformat_minor": 5
}
